{
 "cells": [
  {
   "cell_type": "code",
   "execution_count": 6,
   "id": "ce15f508",
   "metadata": {},
   "outputs": [
    {
     "name": "stdout",
     "output_type": "stream",
     "text": [
      "Họ và tên: Nguyễn Đình Hoàng Sơn\n",
      "Ngày sinh: 25/04/2004\n",
      "Địa chỉ: RiverPanorama2, Quận 7, Thành phố Hồ Chí Minh\n",
      "Mục đích đến với khóa học: Để có kĩ năng lập trình Python chuẩn bị vào đại học\n"
     ]
    }
   ],
   "source": [
    "print(\"Họ và tên: Nguyễn Đình Hoàng Sơn\")\n",
    "print(\"Ngày sinh: 25/04/2004\")\n",
    "print(\"Địa chỉ: RiverPanorama2, Quận 7, Thành phố Hồ Chí Minh\")\n",
    "print(\"Mục đích đến với khóa học: Để có kĩ năng lập trình Python chuẩn bị vào đại học\")"
   ]
  },
  {
   "cell_type": "code",
   "execution_count": null,
   "id": "c880a926",
   "metadata": {},
   "outputs": [],
   "source": []
  },
  {
   "cell_type": "code",
   "execution_count": null,
   "id": "74d9f485",
   "metadata": {},
   "outputs": [],
   "source": []
  }
 ],
 "metadata": {
  "kernelspec": {
   "display_name": "Python 3 (ipykernel)",
   "language": "python",
   "name": "python3"
  },
  "language_info": {
   "codemirror_mode": {
    "name": "ipython",
    "version": 3
   },
   "file_extension": ".py",
   "mimetype": "text/x-python",
   "name": "python",
   "nbconvert_exporter": "python",
   "pygments_lexer": "ipython3",
   "version": "3.9.12"
  }
 },
 "nbformat": 4,
 "nbformat_minor": 5
}
